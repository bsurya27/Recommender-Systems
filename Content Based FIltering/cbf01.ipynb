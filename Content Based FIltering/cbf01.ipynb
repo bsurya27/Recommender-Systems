{
 "cells": [
  {
   "cell_type": "markdown",
   "id": "19c99deb",
   "metadata": {},
   "source": [
    "### Content Based Filtering Without Neural Network"
   ]
  },
  {
   "cell_type": "markdown",
   "id": "42624224",
   "metadata": {},
   "source": []
  }
 ],
 "metadata": {
  "language_info": {
   "name": "python"
  }
 },
 "nbformat": 4,
 "nbformat_minor": 5
}
