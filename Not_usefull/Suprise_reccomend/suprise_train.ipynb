{
 "cells": [
  {
   "cell_type": "code",
   "execution_count": null,
   "id": "e067ee35",
   "metadata": {},
   "outputs": [],
   "source": [
    "import pandas as pd\n",
    "from sklearn.feature_extraction.text import TfidfVectorizer\n",
    "from sklearn.metrics.pairwise import cosine_similarity\n",
    "\n",
    "# Step 1: Load data\n",
    "df = pd.read_csv(\"anime.csv\")\n",
    "\n",
    "# Step 2: Fill missing values\n",
    "for col in ['genre', 'studio', 'synopsis', 'source']:\n",
    "    df[col] = df[col].fillna('')\n",
    "\n",
    "# Step 3: Create a \"content\" column combining useful metadata\n",
    "df['content'] = df['genre'] + ' ' + df['studio'] + ' ' + df['source'] + ' ' + df['synopsis']\n",
    "\n",
    "# Step 4: TF-IDF Vectorization\n",
    "tfidf = TfidfVectorizer(stop_words='english')\n",
    "tfidf_matrix = tfidf.fit_transform(df['content'])\n",
    "\n",
    "# Step 5: Cosine similarity\n",
    "cosine_sim = cosine_similarity(tfidf_matrix, tfidf_matrix)\n",
    "\n",
    "# Step 6: Build a reverse mapping of anime_id to index\n",
    "anime_id_to_index = pd.Series(df.index, index=df['anime_id'])\n",
    "\n",
    "# Step 7: Recommendation function\n",
    "def recommend(anime_id, top_n=5):\n",
    "    if anime_id not in anime_id_to_index:\n",
    "        return f\"Anime ID {anime_id} not found in the dataset.\"\n",
    "\n",
    "    idx = anime_id_to_index[anime_id]\n",
    "    sim_scores = list(enumerate(cosine_sim[idx]))\n",
    "    sim_scores = sorted(sim_scores, key=lambda x: x[1], reverse=True)\n",
    "    sim_scores = sim_scores[1:top_n+1]  # skip itself\n",
    "\n",
    "    anime_indices = [i[0] for i in sim_scores]\n",
    "    return df[['anime_id', 'name']].iloc[anime_indices]\n",
    "\n",
    "# Example usage:\n",
    "print(recommend(1))  # Replace with any anime_id from your CSV\n"
   ]
  }
 ],
 "metadata": {
  "language_info": {
   "name": "python"
  }
 },
 "nbformat": 4,
 "nbformat_minor": 5
}
