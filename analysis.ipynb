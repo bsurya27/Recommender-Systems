{
 "cells": [
  {
   "cell_type": "markdown",
   "id": "f93af6f9",
   "metadata": {},
   "source": [
    "# Anime Recommender Dataset Analysis"
   ]
  },
  {
   "cell_type": "code",
   "execution_count": 80,
   "id": "f98ac52a",
   "metadata": {},
   "outputs": [],
   "source": [
    "import pandas as pd\n",
    "import numpy as np\n",
    "import math\n",
    "import random"
   ]
  },
  {
   "cell_type": "code",
   "execution_count": 81,
   "id": "b21487ff",
   "metadata": {},
   "outputs": [],
   "source": [
    "anime = pd.read_csv('anime.csv')\n",
    "rating = pd.read_csv('rating.csv')"
   ]
  },
  {
   "cell_type": "code",
   "execution_count": 82,
   "id": "4935517a",
   "metadata": {},
   "outputs": [
    {
     "name": "stdout",
     "output_type": "stream",
     "text": [
      "   anime_id                              name  \\\n",
      "0     32281                    Kimi no Na wa.   \n",
      "1      5114  Fullmetal Alchemist: Brotherhood   \n",
      "2     28977                          Gintama°   \n",
      "3      9253                       Steins;Gate   \n",
      "4      9969                     Gintama&#039;   \n",
      "\n",
      "                                               genre   type episodes  rating  \\\n",
      "0               Drama, Romance, School, Supernatural  Movie        1    9.37   \n",
      "1  Action, Adventure, Drama, Fantasy, Magic, Mili...     TV       64    9.26   \n",
      "2  Action, Comedy, Historical, Parody, Samurai, S...     TV       51    9.25   \n",
      "3                                   Sci-Fi, Thriller     TV       24    9.17   \n",
      "4  Action, Comedy, Historical, Parody, Samurai, S...     TV       51    9.16   \n",
      "\n",
      "   members  \n",
      "0   200630  \n",
      "1   793665  \n",
      "2   114262  \n",
      "3   673572  \n",
      "4   151266  \n"
     ]
    }
   ],
   "source": [
    "print(anime.head())"
   ]
  },
  {
   "cell_type": "code",
   "execution_count": 83,
   "id": "60fac55a",
   "metadata": {},
   "outputs": [
    {
     "name": "stdout",
     "output_type": "stream",
     "text": [
      "   user_id  anime_id  rating\n",
      "0        1        20      -1\n",
      "1        1        24      -1\n",
      "2        1        79      -1\n",
      "3        1       226      -1\n",
      "4        1       241      -1\n"
     ]
    }
   ],
   "source": [
    "print(rating.head())"
   ]
  },
  {
   "cell_type": "code",
   "execution_count": 84,
   "id": "e7556f45",
   "metadata": {},
   "outputs": [
    {
     "name": "stdout",
     "output_type": "stream",
     "text": [
      "       user_id                                           anime_id\n",
      "0            1  [20, 24, 79, 226, 241, 355, 356, 442, 487, 846...\n",
      "1            2                              [11771, 12189, 16417]\n",
      "2            3  [20, 154, 170, 199, 225, 341, 430, 527, 552, 8...\n",
      "3            4  [6, 72, 121, 150, 166, 205, 226, 857, 1292, 14...\n",
      "4            5  [6, 15, 17, 18, 20, 22, 24, 30, 45, 47, 57, 63...\n",
      "...        ...                                                ...\n",
      "73510    73512  [60, 98, 101, 120, 199, 226, 339, 355, 552, 65...\n",
      "73511    73513  [1, 5, 71, 101, 164, 180, 181, 195, 196, 199, ...\n",
      "73512    73514                                              [512]\n",
      "73513    73515  [1, 5, 6, 19, 27, 30, 33, 57, 67, 71, 72, 73, ...\n",
      "73514    73516                                        [790, 8074]\n",
      "\n",
      "[73515 rows x 2 columns]\n"
     ]
    }
   ],
   "source": [
    "# get rating\n",
    "user_groups = rating.groupby('user_id')\n",
    "user_distinct_anime = user_groups['anime_id'].apply(lambda x: list(x.unique())).reset_index()\n",
    "print(user_distinct_anime)\n"
   ]
  },
  {
   "cell_type": "code",
   "execution_count": 85,
   "id": "bc120ea2",
   "metadata": {},
   "outputs": [],
   "source": [
    "num_watched = user_distinct_anime['anime_id'].apply(lambda x: len(x))"
   ]
  },
  {
   "cell_type": "code",
   "execution_count": 86,
   "id": "2f498164",
   "metadata": {},
   "outputs": [
    {
     "name": "stdout",
     "output_type": "stream",
     "text": [
      "69           1\n",
      "58           1\n",
      "68162        1\n",
      "68176        1\n",
      "49441        1\n",
      "         ...  \n",
      "59641     2633\n",
      "57618     2702\n",
      "53696     2905\n",
      "42634     3747\n",
      "48764    10227\n",
      "Name: anime_id, Length: 73515, dtype: int64\n"
     ]
    }
   ],
   "source": [
    "print(num_watched.sort_values())"
   ]
  },
  {
   "cell_type": "code",
   "execution_count": 87,
   "id": "186a4a71",
   "metadata": {},
   "outputs": [
    {
     "data": {
      "text/html": [
       "<div>\n",
       "<style scoped>\n",
       "    .dataframe tbody tr th:only-of-type {\n",
       "        vertical-align: middle;\n",
       "    }\n",
       "\n",
       "    .dataframe tbody tr th {\n",
       "        vertical-align: top;\n",
       "    }\n",
       "\n",
       "    .dataframe thead th {\n",
       "        text-align: right;\n",
       "    }\n",
       "</style>\n",
       "<table border=\"1\" class=\"dataframe\">\n",
       "  <thead>\n",
       "    <tr style=\"text-align: right;\">\n",
       "      <th></th>\n",
       "      <th>user_id</th>\n",
       "      <th>anime_id</th>\n",
       "    </tr>\n",
       "  </thead>\n",
       "  <tbody>\n",
       "    <tr>\n",
       "      <th>48764</th>\n",
       "      <td>48766</td>\n",
       "      <td>[1, 5, 6, 7, 8, 15, 16, 17, 18, 19, 20, 22, 23...</td>\n",
       "    </tr>\n",
       "  </tbody>\n",
       "</table>\n",
       "</div>"
      ],
      "text/plain": [
       "       user_id                                           anime_id\n",
       "48764    48766  [1, 5, 6, 7, 8, 15, 16, 17, 18, 19, 20, 22, 23..."
      ]
     },
     "execution_count": 87,
     "metadata": {},
     "output_type": "execute_result"
    }
   ],
   "source": [
    "user_distinct_anime[user_distinct_anime.index == 48764]"
   ]
  },
  {
   "cell_type": "code",
   "execution_count": 88,
   "id": "68dcf66e",
   "metadata": {},
   "outputs": [
    {
     "data": {
      "text/plain": [
       "<matplotlib.collections.PathCollection at 0x1cd0b269f10>"
      ]
     },
     "execution_count": 88,
     "metadata": {},
     "output_type": "execute_result"
    },
    {
     "data": {
      "image/png": "[encoded data removed]",
      "text/plain": [
       "<Figure size 640x480 with 1 Axes>"
      ]
     },
     "metadata": {},
     "output_type": "display_data"
    }
   ],
   "source": [
    "import matplotlib.pyplot as plt\n",
    "\n",
    "plt.scatter(num_watched, user_distinct_anime['user_id'])"
   ]
  },
  {
   "cell_type": "code",
   "execution_count": 107,
   "id": "c291d0c3",
   "metadata": {},
   "outputs": [],
   "source": [
    "finRate = rating.drop(user_groups.get_group(48766).index)"
   ]
  },
  {
   "cell_type": "code",
   "execution_count": 109,
   "id": "8907ff72",
   "metadata": {},
   "outputs": [],
   "source": [
    "finRate.to_csv('rating_outlier_dropped.csv')"
   ]
  },
  {
   "cell_type": "code",
   "execution_count": 110,
   "id": "71476535",
   "metadata": {},
   "outputs": [],
   "source": [
    "finRate = pd.read_csv('rating_outlier_dropped.csv')"
   ]
  },
  {
   "cell_type": "code",
   "execution_count": 111,
   "id": "ae033c05",
   "metadata": {},
   "outputs": [
    {
     "data": {
      "text/html": [
       "<div>\n",
       "<style scoped>\n",
       "    .dataframe tbody tr th:only-of-type {\n",
       "        vertical-align: middle;\n",
       "    }\n",
       "\n",
       "    .dataframe tbody tr th {\n",
       "        vertical-align: top;\n",
       "    }\n",
       "\n",
       "    .dataframe thead th {\n",
       "        text-align: right;\n",
       "    }\n",
       "</style>\n",
       "<table border=\"1\" class=\"dataframe\">\n",
       "  <thead>\n",
       "    <tr style=\"text-align: right;\">\n",
       "      <th></th>\n",
       "      <th>anime_id</th>\n",
       "      <th>name</th>\n",
       "      <th>genre</th>\n",
       "      <th>type</th>\n",
       "      <th>episodes</th>\n",
       "      <th>rating</th>\n",
       "      <th>members</th>\n",
       "    </tr>\n",
       "  </thead>\n",
       "  <tbody>\n",
       "    <tr>\n",
       "      <th>0</th>\n",
       "      <td>32281</td>\n",
       "      <td>Kimi no Na wa.</td>\n",
       "      <td>Drama, Romance, School, Supernatural</td>\n",
       "      <td>Movie</td>\n",
       "      <td>1</td>\n",
       "      <td>9.37</td>\n",
       "      <td>200630</td>\n",
       "    </tr>\n",
       "    <tr>\n",
       "      <th>1</th>\n",
       "      <td>5114</td>\n",
       "      <td>Fullmetal Alchemist: Brotherhood</td>\n",
       "      <td>Action, Adventure, Drama, Fantasy, Magic, Mili...</td>\n",
       "      <td>TV</td>\n",
       "      <td>64</td>\n",
       "      <td>9.26</td>\n",
       "      <td>793665</td>\n",
       "    </tr>\n",
       "    <tr>\n",
       "      <th>2</th>\n",
       "      <td>28977</td>\n",
       "      <td>Gintama°</td>\n",
       "      <td>Action, Comedy, Historical, Parody, Samurai, S...</td>\n",
       "      <td>TV</td>\n",
       "      <td>51</td>\n",
       "      <td>9.25</td>\n",
       "      <td>114262</td>\n",
       "    </tr>\n",
       "    <tr>\n",
       "      <th>3</th>\n",
       "      <td>9253</td>\n",
       "      <td>Steins;Gate</td>\n",
       "      <td>Sci-Fi, Thriller</td>\n",
       "      <td>TV</td>\n",
       "      <td>24</td>\n",
       "      <td>9.17</td>\n",
       "      <td>673572</td>\n",
       "    </tr>\n",
       "    <tr>\n",
       "      <th>4</th>\n",
       "      <td>9969</td>\n",
       "      <td>Gintama&amp;#039;</td>\n",
       "      <td>Action, Comedy, Historical, Parody, Samurai, S...</td>\n",
       "      <td>TV</td>\n",
       "      <td>51</td>\n",
       "      <td>9.16</td>\n",
       "      <td>151266</td>\n",
       "    </tr>\n",
       "  </tbody>\n",
       "</table>\n",
       "</div>"
      ],
      "text/plain": [
       "   anime_id                              name  \\\n",
       "0     32281                    Kimi no Na wa.   \n",
       "1      5114  Fullmetal Alchemist: Brotherhood   \n",
       "2     28977                          Gintama°   \n",
       "3      9253                       Steins;Gate   \n",
       "4      9969                     Gintama&#039;   \n",
       "\n",
       "                                               genre   type episodes  rating  \\\n",
       "0               Drama, Romance, School, Supernatural  Movie        1    9.37   \n",
       "1  Action, Adventure, Drama, Fantasy, Magic, Mili...     TV       64    9.26   \n",
       "2  Action, Comedy, Historical, Parody, Samurai, S...     TV       51    9.25   \n",
       "3                                   Sci-Fi, Thriller     TV       24    9.17   \n",
       "4  Action, Comedy, Historical, Parody, Samurai, S...     TV       51    9.16   \n",
       "\n",
       "   members  \n",
       "0   200630  \n",
       "1   793665  \n",
       "2   114262  \n",
       "3   673572  \n",
       "4   151266  "
      ]
     },
     "execution_count": 111,
     "metadata": {},
     "output_type": "execute_result"
    }
   ],
   "source": [
    "anime.head()"
   ]
  },
  {
   "cell_type": "code",
   "execution_count": 112,
   "id": "d77d200b",
   "metadata": {},
   "outputs": [],
   "source": [
    "genres = {'Drama'}\n",
    "for an_genre in anime['genre']:\n",
    "    if isinstance(an_genre, str):\n",
    "        gen = an_genre.split(', ')\n",
    "        for genre in gen:\n",
    "            genres.add(genre)"
   ]
  },
  {
   "cell_type": "code",
   "execution_count": 94,
   "id": "168bf800",
   "metadata": {},
   "outputs": [],
   "source": [
    "genreId = {'Drama':0}\n",
    "genres = list(genres)\n",
    "for id in range(len(genres)):\n",
    "    genreId[genres[id]] = id   \n",
    "    "
   ]
  },
  {
   "cell_type": "code",
   "execution_count": 158,
   "id": "8d5be11f",
   "metadata": {},
   "outputs": [],
   "source": [
    "types = anime['type'].unique()\n",
    "typeId = {'Movie': 0}\n",
    "for i in range(len(types)):\n",
    "    typeId[(str)(types[i])] = i"
   ]
  },
  {
   "cell_type": "code",
   "execution_count": 159,
   "id": "032de5bc",
   "metadata": {},
   "outputs": [
    {
     "data": {
      "text/plain": [
       "{'Movie': 0, 'TV': 1, 'OVA': 2, 'Special': 3, 'Music': 4, 'ONA': 5, 'nan': 6}"
      ]
     },
     "execution_count": 159,
     "metadata": {},
     "output_type": "execute_result"
    }
   ],
   "source": [
    "typeId"
   ]
  },
  {
   "cell_type": "code",
   "execution_count": 114,
   "id": "2ff5e3ce",
   "metadata": {},
   "outputs": [
    {
     "data": {
      "text/plain": [
       "7803510"
      ]
     },
     "execution_count": 114,
     "metadata": {},
     "output_type": "execute_result"
    }
   ],
   "source": [
    "len(finRate)"
   ]
  },
  {
   "cell_type": "code",
   "execution_count": 140,
   "id": "0c1c4b55",
   "metadata": {},
   "outputs": [],
   "source": [
    "genreList = []\n",
    "for anGenre in anime['genre']:\n",
    "    tbapp = [0 for i in range(len(genreId))]\n",
    "    if isinstance(anGenre, str):\n",
    "        fingenre = anGenre.split(', ')\n",
    "        for genre in fingenre:\n",
    "            tbapp[genreId[genre]] = 1\n",
    "    genreList.append(tbapp)"
   ]
  },
  {
   "cell_type": "code",
   "execution_count": 151,
   "id": "73587d8c",
   "metadata": {},
   "outputs": [],
   "source": [
    "genre_df = pd.DataFrame(genreList, columns=genreId.keys())\n",
    "genre_df['anime_id'] = anime['anime_id'].values\n",
    "finRate = finRate.merge(genre_df, on='anime_id', how='left')\n"
   ]
  },
  {
   "cell_type": "code",
   "execution_count": 161,
   "id": "d90bee7c",
   "metadata": {},
   "outputs": [],
   "source": [
    "typeList = []\n",
    "for typeVal in anime['type']:\n",
    "    typeVal = str(typeVal)\n",
    "    typeList.append(typeId[typeVal])"
   ]
  },
  {
   "cell_type": "code",
   "execution_count": 165,
   "id": "1280b430",
   "metadata": {},
   "outputs": [],
   "source": [
    "type_df = pd.DataFrame(typeList)\n",
    "type_df['anime_id'] = anime['anime_id'].values\n",
    "finRate = finRate.merge(type_df, on='anime_id', how='left')"
   ]
  },
  {
   "cell_type": "code",
   "execution_count": 115,
   "id": "b1d87d68",
   "metadata": {},
   "outputs": [],
   "source": [
    "user_groups = finRate.groupby('user_id')"
   ]
  },
  {
   "cell_type": "code",
   "execution_count": 131,
   "id": "ae986776",
   "metadata": {},
   "outputs": [],
   "source": [
    "groupsDict = user_groups.groups"
   ]
  },
  {
   "cell_type": "code",
   "execution_count": 190,
   "id": "bc170e7d",
   "metadata": {},
   "outputs": [],
   "source": [
    "# groupsDict.keys()"
   ]
  },
  {
   "cell_type": "code",
   "execution_count": 174,
   "id": "3c3b01a8",
   "metadata": {},
   "outputs": [],
   "source": [
    "members = anime[['anime_id']].copy()\n",
    "members['members'] = anime['members'].values\n",
    "\n",
    "finRate = finRate.merge(members, on='anime_id', how='left')"
   ]
  },
  {
   "cell_type": "code",
   "execution_count": 177,
   "id": "242720fd",
   "metadata": {},
   "outputs": [],
   "source": [
    "episodes = anime[['anime_id']].copy()\n",
    "episodes['episodes'] = anime['episodes'].values\n",
    "episodes['name'] = anime['name'].values\n",
    "episodes['rating'] = anime['rating'].values"
   ]
  },
  {
   "cell_type": "code",
   "execution_count": 178,
   "id": "75fb616e",
   "metadata": {},
   "outputs": [],
   "source": [
    "finRate = finRate.merge(episodes, on='anime_id', how='left')"
   ]
  },
  {
   "cell_type": "code",
   "execution_count": 180,
   "id": "d9094e64",
   "metadata": {},
   "outputs": [],
   "source": [
    "finRate = finRate.rename(columns={0: 'type'})"
   ]
  },
  {
   "cell_type": "code",
   "execution_count": 186,
   "id": "b921a12d",
   "metadata": {},
   "outputs": [],
   "source": [
    "finRate = finRate.drop(columns=['Unnamed: 0'])"
   ]
  },
  {
   "cell_type": "code",
   "execution_count": 188,
   "id": "51d48eca",
   "metadata": {},
   "outputs": [],
   "source": [
    "finRate.to_csv('allUserAnimeDataFinal.csv')"
   ]
  }
 ],
 "metadata": {
  "kernelspec": {
   "display_name": "Python 3",
   "language": "python",
   "name": "python3"
  },
  "language_info": {
   "codemirror_mode": {
    "name": "ipython",
    "version": 3
   },
   "file_extension": ".py",
   "mimetype": "text/x-python",
   "name": "python",
   "nbconvert_exporter": "python",
   "pygments_lexer": "ipython3",
   "version": "3.11.9"
  }
 },
 "nbformat": 4,
 "nbformat_minor": 5
}
