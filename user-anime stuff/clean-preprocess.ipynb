{
 "cells": [
  {
   "cell_type": "code",
   "execution_count": 1,
   "id": "20683cb7",
   "metadata": {},
   "outputs": [],
   "source": [
    "import pandas as pd\n",
    "import numpy as np\n",
    "import matplotlib.pyplot as plt\n",
    "import seaborn as sns\n",
    "from collections import Counter"
   ]
  },
  {
   "cell_type": "code",
   "execution_count": 2,
   "id": "bd1cd07e",
   "metadata": {},
   "outputs": [
    {
     "data": {
      "text/html": [
       "<div>\n",
       "<style scoped>\n",
       "    .dataframe tbody tr th:only-of-type {\n",
       "        vertical-align: middle;\n",
       "    }\n",
       "\n",
       "    .dataframe tbody tr th {\n",
       "        vertical-align: top;\n",
       "    }\n",
       "\n",
       "    .dataframe thead th {\n",
       "        text-align: right;\n",
       "    }\n",
       "</style>\n",
       "<table border=\"1\" class=\"dataframe\">\n",
       "  <thead>\n",
       "    <tr style=\"text-align: right;\">\n",
       "      <th></th>\n",
       "      <th>user_id</th>\n",
       "      <th>anime_id</th>\n",
       "      <th>score</th>\n",
       "      <th>status</th>\n",
       "      <th>episodes_seen</th>\n",
       "    </tr>\n",
       "  </thead>\n",
       "  <tbody>\n",
       "    <tr>\n",
       "      <th>0</th>\n",
       "      <td>doobiez420</td>\n",
       "      <td>52991</td>\n",
       "      <td>NaN</td>\n",
       "      <td>Watching</td>\n",
       "      <td>13.0</td>\n",
       "    </tr>\n",
       "    <tr>\n",
       "      <th>1</th>\n",
       "      <td>LessKk</td>\n",
       "      <td>52991</td>\n",
       "      <td>NaN</td>\n",
       "      <td>Watching</td>\n",
       "      <td>12.0</td>\n",
       "    </tr>\n",
       "    <tr>\n",
       "      <th>2</th>\n",
       "      <td>ByAsh156</td>\n",
       "      <td>52991</td>\n",
       "      <td>9.0</td>\n",
       "      <td>Watching</td>\n",
       "      <td>NaN</td>\n",
       "    </tr>\n",
       "    <tr>\n",
       "      <th>3</th>\n",
       "      <td>ShuBoxx_</td>\n",
       "      <td>52991</td>\n",
       "      <td>NaN</td>\n",
       "      <td>Plan to Watch</td>\n",
       "      <td>NaN</td>\n",
       "    </tr>\n",
       "    <tr>\n",
       "      <th>4</th>\n",
       "      <td>charlieleb</td>\n",
       "      <td>52991</td>\n",
       "      <td>8.0</td>\n",
       "      <td>Completed</td>\n",
       "      <td>28.0</td>\n",
       "    </tr>\n",
       "  </tbody>\n",
       "</table>\n",
       "</div>"
      ],
      "text/plain": [
       "      user_id  anime_id  score         status  episodes_seen\n",
       "0  doobiez420     52991    NaN       Watching           13.0\n",
       "1      LessKk     52991    NaN       Watching           12.0\n",
       "2    ByAsh156     52991    9.0       Watching            NaN\n",
       "3    ShuBoxx_     52991    NaN  Plan to Watch            NaN\n",
       "4  charlieleb     52991    8.0      Completed           28.0"
      ]
     },
     "execution_count": 2,
     "metadata": {},
     "output_type": "execute_result"
    }
   ],
   "source": [
    "userdata = pd.read_csv('../dataset/User-AnimeReview.csv')\n",
    "userdata.head()\n",
    "\n"
   ]
  },
  {
   "cell_type": "code",
   "execution_count": 3,
   "id": "8887c861",
   "metadata": {},
   "outputs": [
    {
     "name": "stdout",
     "output_type": "stream",
     "text": [
      "Number of rows before dropping duplicates: 16573880\n"
     ]
    },
    {
     "data": {
      "text/plain": [
       "user_id                40\n",
       "anime_id                0\n",
       "score            10968315\n",
       "status              14352\n",
       "episodes_seen     7611899\n",
       "dtype: int64"
      ]
     },
     "execution_count": 3,
     "metadata": {},
     "output_type": "execute_result"
    }
   ],
   "source": [
    "print(\"Number of rows before dropping duplicates:\", len(userdata))\n",
    "userdata.isna().sum()\n"
   ]
  },
  {
   "cell_type": "code",
   "execution_count": 4,
   "id": "7d9eea2d",
   "metadata": {},
   "outputs": [
    {
     "data": {
      "text/plain": [
       "user_id          1196322\n",
       "anime_id           27702\n",
       "score                 10\n",
       "status                 5\n",
       "episodes_seen        764\n",
       "dtype: int64"
      ]
     },
     "execution_count": 4,
     "metadata": {},
     "output_type": "execute_result"
    }
   ],
   "source": [
    "userdata.nunique()"
   ]
  },
  {
   "cell_type": "code",
   "execution_count": 5,
   "id": "7170676e",
   "metadata": {},
   "outputs": [],
   "source": [
    "nandropped = userdata.copy()\n",
    "nandropped.dropna(inplace=True)"
   ]
  },
  {
   "cell_type": "code",
   "execution_count": 6,
   "id": "9a3e76b8",
   "metadata": {},
   "outputs": [
    {
     "data": {
      "text/plain": [
       "user_id          607477\n",
       "anime_id          27381\n",
       "score                10\n",
       "status                4\n",
       "episodes_seen       697\n",
       "dtype: int64"
      ]
     },
     "execution_count": 6,
     "metadata": {},
     "output_type": "execute_result"
    }
   ],
   "source": [
    "nandropped.nunique()"
   ]
  },
  {
   "cell_type": "code",
   "execution_count": 7,
   "id": "e5912afd",
   "metadata": {},
   "outputs": [],
   "source": [
    "nandropped.to_csv('cleaned_userdata.csv', index=False)"
   ]
  },
  {
   "cell_type": "code",
   "execution_count": 8,
   "id": "658ed540",
   "metadata": {},
   "outputs": [
    {
     "data": {
      "text/html": [
       "<div>\n",
       "<style scoped>\n",
       "    .dataframe tbody tr th:only-of-type {\n",
       "        vertical-align: middle;\n",
       "    }\n",
       "\n",
       "    .dataframe tbody tr th {\n",
       "        vertical-align: top;\n",
       "    }\n",
       "\n",
       "    .dataframe thead th {\n",
       "        text-align: right;\n",
       "    }\n",
       "</style>\n",
       "<table border=\"1\" class=\"dataframe\">\n",
       "  <thead>\n",
       "    <tr style=\"text-align: right;\">\n",
       "      <th></th>\n",
       "      <th>anime_id</th>\n",
       "      <th>score</th>\n",
       "      <th>episodes_seen</th>\n",
       "    </tr>\n",
       "  </thead>\n",
       "  <tbody>\n",
       "    <tr>\n",
       "      <th>count</th>\n",
       "      <td>5.454899e+06</td>\n",
       "      <td>5.454899e+06</td>\n",
       "      <td>5.454899e+06</td>\n",
       "    </tr>\n",
       "    <tr>\n",
       "      <th>mean</th>\n",
       "      <td>2.806141e+04</td>\n",
       "      <td>6.645204e+00</td>\n",
       "      <td>8.098657e+01</td>\n",
       "    </tr>\n",
       "    <tr>\n",
       "      <th>std</th>\n",
       "      <td>1.875091e+04</td>\n",
       "      <td>2.260999e+00</td>\n",
       "      <td>2.129579e+03</td>\n",
       "    </tr>\n",
       "    <tr>\n",
       "      <th>min</th>\n",
       "      <td>1.000000e+00</td>\n",
       "      <td>1.000000e+00</td>\n",
       "      <td>1.000000e+00</td>\n",
       "    </tr>\n",
       "    <tr>\n",
       "      <th>25%</th>\n",
       "      <td>8.697000e+03</td>\n",
       "      <td>5.000000e+00</td>\n",
       "      <td>1.000000e+00</td>\n",
       "    </tr>\n",
       "    <tr>\n",
       "      <th>50%</th>\n",
       "      <td>3.185900e+04</td>\n",
       "      <td>7.000000e+00</td>\n",
       "      <td>2.000000e+00</td>\n",
       "    </tr>\n",
       "    <tr>\n",
       "      <th>75%</th>\n",
       "      <td>4.161200e+04</td>\n",
       "      <td>8.000000e+00</td>\n",
       "      <td>1.200000e+01</td>\n",
       "    </tr>\n",
       "    <tr>\n",
       "      <th>max</th>\n",
       "      <td>6.173000e+04</td>\n",
       "      <td>1.000000e+01</td>\n",
       "      <td>6.553500e+04</td>\n",
       "    </tr>\n",
       "  </tbody>\n",
       "</table>\n",
       "</div>"
      ],
      "text/plain": [
       "           anime_id         score  episodes_seen\n",
       "count  5.454899e+06  5.454899e+06   5.454899e+06\n",
       "mean   2.806141e+04  6.645204e+00   8.098657e+01\n",
       "std    1.875091e+04  2.260999e+00   2.129579e+03\n",
       "min    1.000000e+00  1.000000e+00   1.000000e+00\n",
       "25%    8.697000e+03  5.000000e+00   1.000000e+00\n",
       "50%    3.185900e+04  7.000000e+00   2.000000e+00\n",
       "75%    4.161200e+04  8.000000e+00   1.200000e+01\n",
       "max    6.173000e+04  1.000000e+01   6.553500e+04"
      ]
     },
     "execution_count": 8,
     "metadata": {},
     "output_type": "execute_result"
    }
   ],
   "source": [
    "nandropped.describe()"
   ]
  },
  {
   "cell_type": "code",
   "execution_count": 39,
   "id": "8b264216",
   "metadata": {},
   "outputs": [
    {
     "name": "stdout",
     "output_type": "stream",
     "text": [
      "           anime_id        score  episodes_seen\n",
      "count   7946.000000  7946.000000    7946.000000\n",
      "mean   26751.196954     2.200227   48620.191417\n",
      "std    14843.742749     2.568347   27448.708689\n",
      "min       21.000000     1.000000    1001.000000\n",
      "25%    10241.000000     1.000000    9999.000000\n",
      "50%    30207.500000     1.000000   65535.000000\n",
      "75%    38321.750000     1.000000   65535.000000\n",
      "max    61420.000000    10.000000   65535.000000\n"
     ]
    }
   ],
   "source": [
    "print(nandropped[nandropped['episodes_seen'] > 1000].describe())"
   ]
  },
  {
   "cell_type": "code",
   "execution_count": 7,
   "id": "d5fc5699",
   "metadata": {},
   "outputs": [],
   "source": [
    "pd.set_option('display.max_rows', 500)   # or None for unlimited\n",
    "pd.set_option('display.max_colwidth', None)  # prevent column truncation\n"
   ]
  },
  {
   "cell_type": "code",
   "execution_count": 8,
   "id": "c813fc0b",
   "metadata": {},
   "outputs": [
    {
     "data": {
      "text/plain": [
       "pandas.core.indexes.base.Index"
      ]
     },
     "execution_count": 8,
     "metadata": {},
     "output_type": "execute_result"
    }
   ],
   "source": [
    "rating_std = nandropped.groupby('user_id')['score'].std()\n",
    "uniform_users = rating_std[rating_std < 0.3].index\n",
    "type(uniform_users)"
   ]
  },
  {
   "cell_type": "code",
   "execution_count": 9,
   "id": "fb722327",
   "metadata": {},
   "outputs": [
    {
     "name": "stdout",
     "output_type": "stream",
     "text": [
      "51068\n"
     ]
    }
   ],
   "source": [
    "print(len(uniform_users))"
   ]
  },
  {
   "cell_type": "code",
   "execution_count": 11,
   "id": "5d413d3a",
   "metadata": {},
   "outputs": [
    {
     "name": "stdout",
     "output_type": "stream",
     "text": [
      "Index(['whoskantus', 'ReMightyRon', 'sexyNeet', 'MoistBlade', 'schizoparanoic',\n",
      "       'trolleybuslover', 'jojokis', 'HuntersBlade71', 'Nihilisticdegene',\n",
      "       '8angel',\n",
      "       ...\n",
      "       'Nemo_Memoire', 'Dreyus', 'blossom15', 'dant35', 'Catexia', 'RENOSSSS',\n",
      "       'GarainaGH', 'irenevanessa133', 'TheMrEmperror', 'Zangril'],\n",
      "      dtype='object', name='user_id', length=305)\n",
      "305\n"
     ]
    }
   ],
   "source": [
    "review_counts = nandropped['user_id'].value_counts()\n",
    "heavy_users = review_counts[review_counts > 1200].index\n",
    "print(heavy_users)\n",
    "print(len(heavy_users))"
   ]
  },
  {
   "cell_type": "code",
   "execution_count": 12,
   "id": "2dc0a11a",
   "metadata": {},
   "outputs": [
    {
     "data": {
      "text/html": [
       "<div>\n",
       "<style scoped>\n",
       "    .dataframe tbody tr th:only-of-type {\n",
       "        vertical-align: middle;\n",
       "    }\n",
       "\n",
       "    .dataframe tbody tr th {\n",
       "        vertical-align: top;\n",
       "    }\n",
       "\n",
       "    .dataframe thead th {\n",
       "        text-align: right;\n",
       "    }\n",
       "</style>\n",
       "<table border=\"1\" class=\"dataframe\">\n",
       "  <thead>\n",
       "    <tr style=\"text-align: right;\">\n",
       "      <th></th>\n",
       "      <th>anime_id</th>\n",
       "      <th>score</th>\n",
       "      <th>episodes_seen</th>\n",
       "    </tr>\n",
       "  </thead>\n",
       "  <tbody>\n",
       "    <tr>\n",
       "      <th>count</th>\n",
       "      <td>5.454899e+06</td>\n",
       "      <td>5.454899e+06</td>\n",
       "      <td>5.454899e+06</td>\n",
       "    </tr>\n",
       "    <tr>\n",
       "      <th>mean</th>\n",
       "      <td>2.806141e+04</td>\n",
       "      <td>6.645204e+00</td>\n",
       "      <td>8.098657e+01</td>\n",
       "    </tr>\n",
       "    <tr>\n",
       "      <th>std</th>\n",
       "      <td>1.875091e+04</td>\n",
       "      <td>2.260999e+00</td>\n",
       "      <td>2.129579e+03</td>\n",
       "    </tr>\n",
       "    <tr>\n",
       "      <th>min</th>\n",
       "      <td>1.000000e+00</td>\n",
       "      <td>1.000000e+00</td>\n",
       "      <td>1.000000e+00</td>\n",
       "    </tr>\n",
       "    <tr>\n",
       "      <th>25%</th>\n",
       "      <td>8.697000e+03</td>\n",
       "      <td>5.000000e+00</td>\n",
       "      <td>1.000000e+00</td>\n",
       "    </tr>\n",
       "    <tr>\n",
       "      <th>50%</th>\n",
       "      <td>3.185900e+04</td>\n",
       "      <td>7.000000e+00</td>\n",
       "      <td>2.000000e+00</td>\n",
       "    </tr>\n",
       "    <tr>\n",
       "      <th>75%</th>\n",
       "      <td>4.161200e+04</td>\n",
       "      <td>8.000000e+00</td>\n",
       "      <td>1.200000e+01</td>\n",
       "    </tr>\n",
       "    <tr>\n",
       "      <th>max</th>\n",
       "      <td>6.173000e+04</td>\n",
       "      <td>1.000000e+01</td>\n",
       "      <td>6.553500e+04</td>\n",
       "    </tr>\n",
       "  </tbody>\n",
       "</table>\n",
       "</div>"
      ],
      "text/plain": [
       "           anime_id         score  episodes_seen\n",
       "count  5.454899e+06  5.454899e+06   5.454899e+06\n",
       "mean   2.806141e+04  6.645204e+00   8.098657e+01\n",
       "std    1.875091e+04  2.260999e+00   2.129579e+03\n",
       "min    1.000000e+00  1.000000e+00   1.000000e+00\n",
       "25%    8.697000e+03  5.000000e+00   1.000000e+00\n",
       "50%    3.185900e+04  7.000000e+00   2.000000e+00\n",
       "75%    4.161200e+04  8.000000e+00   1.200000e+01\n",
       "max    6.173000e+04  1.000000e+01   6.553500e+04"
      ]
     },
     "execution_count": 12,
     "metadata": {},
     "output_type": "execute_result"
    }
   ],
   "source": [
    "nandropped.describe()"
   ]
  },
  {
   "cell_type": "code",
   "execution_count": 25,
   "id": "d97d431c",
   "metadata": {},
   "outputs": [
    {
     "data": {
      "text/plain": [
       "2620011"
      ]
     },
     "execution_count": 25,
     "metadata": {},
     "output_type": "execute_result"
    }
   ],
   "source": [
    "mask = (nandropped['episodes_seen'] == 1) \n",
    "\n",
    "trolls = nandropped.loc[mask]\n",
    "\n",
    "len(trolls)"
   ]
  },
  {
   "cell_type": "code",
   "execution_count": 21,
   "id": "dab498a9",
   "metadata": {},
   "outputs": [
    {
     "data": {
      "text/html": [
       "<div>\n",
       "<style scoped>\n",
       "    .dataframe tbody tr th:only-of-type {\n",
       "        vertical-align: middle;\n",
       "    }\n",
       "\n",
       "    .dataframe tbody tr th {\n",
       "        vertical-align: top;\n",
       "    }\n",
       "\n",
       "    .dataframe thead th {\n",
       "        text-align: right;\n",
       "    }\n",
       "</style>\n",
       "<table border=\"1\" class=\"dataframe\">\n",
       "  <thead>\n",
       "    <tr style=\"text-align: right;\">\n",
       "      <th></th>\n",
       "      <th>user_id</th>\n",
       "      <th>anime_id</th>\n",
       "      <th>score</th>\n",
       "      <th>status</th>\n",
       "      <th>episodes_seen</th>\n",
       "    </tr>\n",
       "  </thead>\n",
       "  <tbody>\n",
       "    <tr>\n",
       "      <th>10923873</th>\n",
       "      <td>ReMightyRon</td>\n",
       "      <td>9947</td>\n",
       "      <td>10.0</td>\n",
       "      <td>Completed</td>\n",
       "      <td>3057.0</td>\n",
       "    </tr>\n",
       "  </tbody>\n",
       "</table>\n",
       "</div>"
      ],
      "text/plain": [
       "              user_id  anime_id  score     status  episodes_seen\n",
       "10923873  ReMightyRon      9947   10.0  Completed         3057.0"
      ]
     },
     "execution_count": 21,
     "metadata": {},
     "output_type": "execute_result"
    }
   ],
   "source": [
    "trolls[trolls['user_id'] == 'ReMightyRon'].head(n = 20)"
   ]
  },
  {
   "cell_type": "code",
   "execution_count": 10,
   "id": "85b9cc9e",
   "metadata": {},
   "outputs": [
    {
     "data": {
      "text/plain": [
       "Index(['user_id', 'anime_id', 'score', 'status', 'episodes_seen'], dtype='object')"
      ]
     },
     "execution_count": 10,
     "metadata": {},
     "output_type": "execute_result"
    }
   ],
   "source": [
    "nandropped.columns\n"
   ]
  },
  {
   "cell_type": "code",
   "execution_count": 26,
   "id": "116aeccd",
   "metadata": {},
   "outputs": [
    {
     "name": "stdout",
     "output_type": "stream",
     "text": [
      "['nxptunzzz' 'ralphkitzer' 'mochidays-' ... 'jojawopon' 'TheMiseryChick'\n",
      " 'benny566']\n",
      "354038\n"
     ]
    }
   ],
   "source": [
    "troll_users = trolls['user_id'].unique()\n",
    "print(troll_users)\n",
    "print(len(troll_users))"
   ]
  },
  {
   "cell_type": "code",
   "execution_count": 27,
   "id": "e0649ef4",
   "metadata": {},
   "outputs": [
    {
     "data": {
      "text/html": [
       "<div>\n",
       "<style scoped>\n",
       "    .dataframe tbody tr th:only-of-type {\n",
       "        vertical-align: middle;\n",
       "    }\n",
       "\n",
       "    .dataframe tbody tr th {\n",
       "        vertical-align: top;\n",
       "    }\n",
       "\n",
       "    .dataframe thead th {\n",
       "        text-align: right;\n",
       "    }\n",
       "</style>\n",
       "<table border=\"1\" class=\"dataframe\">\n",
       "  <thead>\n",
       "    <tr style=\"text-align: right;\">\n",
       "      <th></th>\n",
       "      <th>anime_id</th>\n",
       "      <th>score</th>\n",
       "      <th>episodes_seen</th>\n",
       "    </tr>\n",
       "  </thead>\n",
       "  <tbody>\n",
       "    <tr>\n",
       "      <th>count</th>\n",
       "      <td>2.620011e+06</td>\n",
       "      <td>2.620011e+06</td>\n",
       "      <td>2620011.0</td>\n",
       "    </tr>\n",
       "    <tr>\n",
       "      <th>mean</th>\n",
       "      <td>2.872176e+04</td>\n",
       "      <td>6.252697e+00</td>\n",
       "      <td>1.0</td>\n",
       "    </tr>\n",
       "    <tr>\n",
       "      <th>std</th>\n",
       "      <td>1.846814e+04</td>\n",
       "      <td>2.306005e+00</td>\n",
       "      <td>0.0</td>\n",
       "    </tr>\n",
       "    <tr>\n",
       "      <th>min</th>\n",
       "      <td>1.000000e+00</td>\n",
       "      <td>1.000000e+00</td>\n",
       "      <td>1.0</td>\n",
       "    </tr>\n",
       "    <tr>\n",
       "      <th>25%</th>\n",
       "      <td>9.716000e+03</td>\n",
       "      <td>5.000000e+00</td>\n",
       "      <td>1.0</td>\n",
       "    </tr>\n",
       "    <tr>\n",
       "      <th>50%</th>\n",
       "      <td>3.175700e+04</td>\n",
       "      <td>6.000000e+00</td>\n",
       "      <td>1.0</td>\n",
       "    </tr>\n",
       "    <tr>\n",
       "      <th>75%</th>\n",
       "      <td>4.174400e+04</td>\n",
       "      <td>8.000000e+00</td>\n",
       "      <td>1.0</td>\n",
       "    </tr>\n",
       "    <tr>\n",
       "      <th>max</th>\n",
       "      <td>6.173000e+04</td>\n",
       "      <td>1.000000e+01</td>\n",
       "      <td>1.0</td>\n",
       "    </tr>\n",
       "  </tbody>\n",
       "</table>\n",
       "</div>"
      ],
      "text/plain": [
       "           anime_id         score  episodes_seen\n",
       "count  2.620011e+06  2.620011e+06      2620011.0\n",
       "mean   2.872176e+04  6.252697e+00            1.0\n",
       "std    1.846814e+04  2.306005e+00            0.0\n",
       "min    1.000000e+00  1.000000e+00            1.0\n",
       "25%    9.716000e+03  5.000000e+00            1.0\n",
       "50%    3.175700e+04  6.000000e+00            1.0\n",
       "75%    4.174400e+04  8.000000e+00            1.0\n",
       "max    6.173000e+04  1.000000e+01            1.0"
      ]
     },
     "execution_count": 27,
     "metadata": {},
     "output_type": "execute_result"
    }
   ],
   "source": [
    "trolls.describe()"
   ]
  },
  {
   "cell_type": "code",
   "execution_count": 13,
   "id": "dba4d657",
   "metadata": {},
   "outputs": [
    {
     "data": {
      "text/html": [
       "<div>\n",
       "<style scoped>\n",
       "    .dataframe tbody tr th:only-of-type {\n",
       "        vertical-align: middle;\n",
       "    }\n",
       "\n",
       "    .dataframe tbody tr th {\n",
       "        vertical-align: top;\n",
       "    }\n",
       "\n",
       "    .dataframe thead th {\n",
       "        text-align: right;\n",
       "    }\n",
       "</style>\n",
       "<table border=\"1\" class=\"dataframe\">\n",
       "  <thead>\n",
       "    <tr style=\"text-align: right;\">\n",
       "      <th></th>\n",
       "      <th>user_id</th>\n",
       "      <th>anime_id</th>\n",
       "      <th>score</th>\n",
       "      <th>status</th>\n",
       "      <th>episodes_seen</th>\n",
       "    </tr>\n",
       "  </thead>\n",
       "  <tbody>\n",
       "    <tr>\n",
       "      <th>12407798</th>\n",
       "      <td>SamLuv</td>\n",
       "      <td>10241</td>\n",
       "      <td>2.0</td>\n",
       "      <td>Completed</td>\n",
       "      <td>1006.0</td>\n",
       "    </tr>\n",
       "    <tr>\n",
       "      <th>12407807</th>\n",
       "      <td>L7_Jinzo</td>\n",
       "      <td>10241</td>\n",
       "      <td>2.0</td>\n",
       "      <td>Completed</td>\n",
       "      <td>1006.0</td>\n",
       "    </tr>\n",
       "    <tr>\n",
       "      <th>12408007</th>\n",
       "      <td>seth</td>\n",
       "      <td>10241</td>\n",
       "      <td>2.0</td>\n",
       "      <td>Completed</td>\n",
       "      <td>1006.0</td>\n",
       "    </tr>\n",
       "    <tr>\n",
       "      <th>12408157</th>\n",
       "      <td>Zsingp</td>\n",
       "      <td>10241</td>\n",
       "      <td>2.0</td>\n",
       "      <td>Completed</td>\n",
       "      <td>1006.0</td>\n",
       "    </tr>\n",
       "    <tr>\n",
       "      <th>12408224</th>\n",
       "      <td>api_madman9512</td>\n",
       "      <td>10241</td>\n",
       "      <td>2.0</td>\n",
       "      <td>Completed</td>\n",
       "      <td>1006.0</td>\n",
       "    </tr>\n",
       "  </tbody>\n",
       "</table>\n",
       "</div>"
      ],
      "text/plain": [
       "                 user_id  anime_id  score     status  episodes_seen\n",
       "12407798          SamLuv     10241    2.0  Completed         1006.0\n",
       "12407807        L7_Jinzo     10241    2.0  Completed         1006.0\n",
       "12408007            seth     10241    2.0  Completed         1006.0\n",
       "12408157          Zsingp     10241    2.0  Completed         1006.0\n",
       "12408224  api_madman9512     10241    2.0  Completed         1006.0"
      ]
     },
     "execution_count": 13,
     "metadata": {},
     "output_type": "execute_result"
    }
   ],
   "source": [
    "trolls.head(n = 20)"
   ]
  },
  {
   "cell_type": "code",
   "execution_count": 22,
   "id": "5a5007d8",
   "metadata": {},
   "outputs": [
    {
     "data": {
      "text/html": [
       "<div>\n",
       "<style scoped>\n",
       "    .dataframe tbody tr th:only-of-type {\n",
       "        vertical-align: middle;\n",
       "    }\n",
       "\n",
       "    .dataframe tbody tr th {\n",
       "        vertical-align: top;\n",
       "    }\n",
       "\n",
       "    .dataframe thead th {\n",
       "        text-align: right;\n",
       "    }\n",
       "</style>\n",
       "<table border=\"1\" class=\"dataframe\">\n",
       "  <thead>\n",
       "    <tr style=\"text-align: right;\">\n",
       "      <th></th>\n",
       "      <th>anime_id</th>\n",
       "      <th>name</th>\n",
       "      <th>title_english</th>\n",
       "      <th>title_japanese</th>\n",
       "      <th>type</th>\n",
       "      <th>episodes</th>\n",
       "      <th>rating</th>\n",
       "      <th>rank</th>\n",
       "      <th>popularity</th>\n",
       "      <th>members</th>\n",
       "      <th>status</th>\n",
       "      <th>source</th>\n",
       "      <th>duration</th>\n",
       "      <th>genre</th>\n",
       "      <th>studio</th>\n",
       "      <th>synopsis</th>\n",
       "      <th>aired_from_year</th>\n",
       "      <th>aired_to_year</th>\n",
       "      <th>duration_mins</th>\n",
       "      <th>duration_bucket</th>\n",
       "    </tr>\n",
       "  </thead>\n",
       "  <tbody>\n",
       "    <tr>\n",
       "      <th>9751</th>\n",
       "      <td>9947</td>\n",
       "      <td>Lan Mao</td>\n",
       "      <td>3000 Whys Of Blue Cat</td>\n",
       "      <td>蓝猫淘气3000问</td>\n",
       "      <td>TV</td>\n",
       "      <td>3057.0</td>\n",
       "      <td>6.06</td>\n",
       "      <td>9729.0</td>\n",
       "      <td>14745</td>\n",
       "      <td>933</td>\n",
       "      <td>Finished Airing</td>\n",
       "      <td>Original</td>\n",
       "      <td>11 min per ep</td>\n",
       "      <td>Adventure, Comedy</td>\n",
       "      <td>NaN</td>\n",
       "      <td>Adventures include going into deep sea and accompanying dinosaurs. The shows are mainly based on science or science fiction. It has been popular in China, one reason might be the fact that many of the Chinese youth have been sending questions to the studio, and the studio answers them with one of Lan Mao's adventures. Lan Mao is sometimes impulsive, and in the end gets nothing but trouble.\\n\\n(Source: Wikipedia)...</td>\n",
       "      <td>1999.0</td>\n",
       "      <td>2001.0</td>\n",
       "      <td>11.0</td>\n",
       "      <td>11-15</td>\n",
       "    </tr>\n",
       "  </tbody>\n",
       "</table>\n",
       "</div>"
      ],
      "text/plain": [
       "      anime_id     name          title_english title_japanese type  episodes  \\\n",
       "9751      9947  Lan Mao  3000 Whys Of Blue Cat      蓝猫淘气3000问   TV    3057.0   \n",
       "\n",
       "      rating    rank  popularity  members           status    source  \\\n",
       "9751    6.06  9729.0       14745      933  Finished Airing  Original   \n",
       "\n",
       "           duration              genre studio  \\\n",
       "9751  11 min per ep  Adventure, Comedy    NaN   \n",
       "\n",
       "                                                                                                                                                                                                                                                                                                                                                                                                                                synopsis  \\\n",
       "9751  Adventures include going into deep sea and accompanying dinosaurs. The shows are mainly based on science or science fiction. It has been popular in China, one reason might be the fact that many of the Chinese youth have been sending questions to the studio, and the studio answers them with one of Lan Mao's adventures. Lan Mao is sometimes impulsive, and in the end gets nothing but trouble.\\n\\n(Source: Wikipedia)...   \n",
       "\n",
       "      aired_from_year  aired_to_year  duration_mins duration_bucket  \n",
       "9751           1999.0         2001.0           11.0           11-15  "
      ]
     },
     "execution_count": 22,
     "metadata": {},
     "output_type": "execute_result"
    }
   ],
   "source": [
    "\n",
    "\n",
    "animedata = pd.read_csv('../somewhatcleanedAnime.csv')\n",
    "mask = (animedata['anime_id'] == 9947) \n",
    "epmax = animedata.loc[mask]\n",
    "epmax.head(n = 20)"
   ]
  },
  {
   "cell_type": "code",
   "execution_count": 35,
   "id": "2408bc3c",
   "metadata": {},
   "outputs": [
    {
     "data": {
      "text/plain": [
       "21337"
      ]
     },
     "execution_count": 35,
     "metadata": {},
     "output_type": "execute_result"
    }
   ],
   "source": [
    "len(animedata)"
   ]
  },
  {
   "cell_type": "code",
   "execution_count": 64,
   "id": "4cae67e7",
   "metadata": {},
   "outputs": [
    {
     "data": {
      "text/plain": [
       "23355"
      ]
     },
     "execution_count": 64,
     "metadata": {},
     "output_type": "execute_result"
    }
   ],
   "source": [
    "animedata['anime_id'].nunique()"
   ]
  },
  {
   "cell_type": "code",
   "execution_count": 65,
   "id": "55633e69",
   "metadata": {},
   "outputs": [
    {
     "data": {
      "text/plain": [
       "27264"
      ]
     },
     "execution_count": 65,
     "metadata": {},
     "output_type": "execute_result"
    }
   ],
   "source": [
    "nandropped['anime_id'].nunique()"
   ]
  },
  {
   "cell_type": "code",
   "execution_count": 19,
   "id": "f32e10e6",
   "metadata": {},
   "outputs": [
    {
     "data": {
      "text/plain": [
       "16"
      ]
     },
     "execution_count": 19,
     "metadata": {},
     "output_type": "execute_result"
    }
   ],
   "source": [
    "len(epmax)"
   ]
  },
  {
   "cell_type": "code",
   "execution_count": 42,
   "id": "8d15e32b",
   "metadata": {},
   "outputs": [],
   "source": [
    "anime_episode_estimates = {}\n",
    "\n",
    "# Filter completed watch statuses (if such a column exists)\n",
    "completed_data = nandropped[nandropped['status'] == 'Completed']  # or status code == 2, depending on source\n",
    "\n",
    "# Group by anime_id\n",
    "grouped = completed_data.groupby('anime_id')\n",
    "\n",
    "for anime_id, group in grouped:\n",
    "    mode_eps = group['episodes_seen'].mode()\n",
    "    if not mode_eps.empty:\n",
    "        anime_episode_estimates[anime_id] = int(mode_eps[0])"
   ]
  },
  {
   "cell_type": "code",
   "execution_count": 44,
   "id": "36f4d886",
   "metadata": {},
   "outputs": [
    {
     "name": "stdout",
     "output_type": "stream",
     "text": [
      "27318\n"
     ]
    }
   ],
   "source": [
    "print(len(anime_episode_estimates))"
   ]
  },
  {
   "cell_type": "code",
   "execution_count": 50,
   "id": "6db73b85",
   "metadata": {},
   "outputs": [
    {
     "name": "stdout",
     "output_type": "stream",
     "text": [
      "Total suspicious rows: 6475\n"
     ]
    }
   ],
   "source": [
    "# Step 1: Get mode episodes per anime from completed users\n",
    "completed = nandropped[nandropped['status'] == 'Completed']\n",
    "episode_mode = completed.groupby('anime_id')['episodes_seen'].agg(lambda x: x.mode().iloc[0] if not x.mode().empty else np.nan)\n",
    "episode_mode.name = 'estimated_max_eps'\n",
    "\n",
    "# Step 2: Merge this info back into userAnime\n",
    "nandropped = nandropped.merge(episode_mode, on='anime_id', how='left')\n",
    "\n",
    "# Step 3: Create mask for users who watched more than estimated max\n",
    "nandropped['suspicious'] = (\n",
    "    (nandropped['episodes_seen'] > nandropped['estimated_max_eps']) &\n",
    "    (nandropped['episodes_seen'] > 1000)\n",
    ")\n",
    "\n",
    "# Step 4: View those suspicious rows\n",
    "\n",
    "\n",
    "print(f\"Total suspicious rows: {nandropped['suspicious'].sum()}\")\n",
    "  # Or suspicious_users[['user_id', 'anime_id', 'episodes_seen', 'estimated_max_eps']]\n"
   ]
  },
  {
   "cell_type": "code",
   "execution_count": 51,
   "id": "c5a6f058",
   "metadata": {},
   "outputs": [
    {
     "name": "stdout",
     "output_type": "stream",
     "text": [
      "5454899\n",
      "5448424\n"
     ]
    }
   ],
   "source": [
    "# Drop suspicious only\n",
    "print(len(nandropped))\n",
    "nandropped = nandropped[~nandropped['suspicious']].drop(columns=['suspicious', 'estimated_max_eps']).reset_index(drop=True)\n",
    "print(len(nandropped))"
   ]
  },
  {
   "cell_type": "code",
   "execution_count": 52,
   "id": "28b294f0",
   "metadata": {},
   "outputs": [],
   "source": [
    "user_activity_counts = nandropped['user_id'].value_counts()\n",
    "low_activity_users = user_activity_counts[user_activity_counts < 10].index\n",
    "low_activity_mask = nandropped['user_id'].isin(low_activity_users)\n"
   ]
  },
  {
   "cell_type": "code",
   "execution_count": 53,
   "id": "659796d8",
   "metadata": {},
   "outputs": [],
   "source": [
    "user_score_std = nandropped.groupby('user_id')['score'].std()\n",
    "low_std_users = user_score_std[user_score_std < 1].index  # or < 0.5 if you want a more relaxed filter\n",
    "low_std_mask = nandropped['user_id'].isin(low_std_users)\n"
   ]
  },
  {
   "cell_type": "code",
   "execution_count": 54,
   "id": "ca136465",
   "metadata": {},
   "outputs": [
    {
     "data": {
      "image/png": "[encoded data removed]",
      "text/plain": [
       "<Figure size 640x480 with 1 Axes>"
      ]
     },
     "metadata": {},
     "output_type": "display_data"
    }
   ],
   "source": [
    "user_score_std.hist(bins=50)\n",
    "plt.title(\"User Score Standard Deviation Distribution\")\n",
    "plt.xlabel(\"Std Dev of Scores\")\n",
    "plt.ylabel(\"User Count\")\n",
    "plt.show()\n"
   ]
  },
  {
   "cell_type": "code",
   "execution_count": 55,
   "id": "7a3ab3d1",
   "metadata": {},
   "outputs": [
    {
     "name": "stdout",
     "output_type": "stream",
     "text": [
      "Low activity users: 530472\n",
      "Low score std users: 164304\n",
      "Overlap: 140672\n"
     ]
    }
   ],
   "source": [
    "print(f\"Low activity users: {len(low_activity_users)}\")\n",
    "print(f\"Low score std users: {len(low_std_users)}\")\n",
    "print(f\"Overlap: {len(set(low_activity_users) & set(low_std_users))}\")\n"
   ]
  },
  {
   "cell_type": "code",
   "execution_count": 56,
   "id": "2db64054",
   "metadata": {},
   "outputs": [
    {
     "name": "stdout",
     "output_type": "stream",
     "text": [
      "Rows to drop: 2555940\n"
     ]
    }
   ],
   "source": [
    "# Combine masks\n",
    "combined_user_mask = low_activity_mask | low_std_mask\n",
    "\n",
    "# Preview how many rows affected\n",
    "print(f\"Rows to drop: {combined_user_mask.sum()}\")\n",
    "\n",
    "# Drop\n",
    "nandropped = nandropped[~combined_user_mask].reset_index(drop=True)\n"
   ]
  },
  {
   "cell_type": "code",
   "execution_count": 57,
   "id": "b3ea596a",
   "metadata": {},
   "outputs": [
    {
     "data": {
      "text/plain": [
       "user_id          53350\n",
       "anime_id         27264\n",
       "score               10\n",
       "status               4\n",
       "episodes_seen      565\n",
       "dtype: int64"
      ]
     },
     "execution_count": 57,
     "metadata": {},
     "output_type": "execute_result"
    }
   ],
   "source": [
    "nandropped.nunique()"
   ]
  },
  {
   "cell_type": "code",
   "execution_count": 58,
   "id": "d83bdf2f",
   "metadata": {},
   "outputs": [
    {
     "name": "stdout",
     "output_type": "stream",
     "text": [
      "2892484\n"
     ]
    }
   ],
   "source": [
    "print(len(nandropped))"
   ]
  },
  {
   "cell_type": "code",
   "execution_count": 61,
   "id": "049e6a8c",
   "metadata": {},
   "outputs": [],
   "source": [
    "# Load the list of valid anime_ids from somewhatcleanedAnime.csv\n",
    "valid_anime = pd.read_csv('../somewhatcleanedAnime.csv')  # adjust path if needed\n",
    "valid_anime_ids = set(valid_anime['anime_id'])\n",
    "\n",
    "# Filter nandropped to only include these anime_ids\n",
    "final_df = nandropped[nandropped['anime_id'].isin(valid_anime_ids)].reset_index(drop=True)"
   ]
  },
  {
   "cell_type": "code",
   "execution_count": 71,
   "id": "e23d99e6",
   "metadata": {},
   "outputs": [
    {
     "name": "stdout",
     "output_type": "stream",
     "text": [
      "2211596\n"
     ]
    },
    {
     "data": {
      "text/plain": [
       "22482"
      ]
     },
     "execution_count": 71,
     "metadata": {},
     "output_type": "execute_result"
    }
   ],
   "source": [
    "print(len(final_df))\n",
    "\n",
    "final_df['anime_id'].nunique()"
   ]
  },
  {
   "cell_type": "code",
   "execution_count": 73,
   "id": "ae21c214",
   "metadata": {},
   "outputs": [
    {
     "data": {
      "text/html": [
       "<div>\n",
       "<style scoped>\n",
       "    .dataframe tbody tr th:only-of-type {\n",
       "        vertical-align: middle;\n",
       "    }\n",
       "\n",
       "    .dataframe tbody tr th {\n",
       "        vertical-align: top;\n",
       "    }\n",
       "\n",
       "    .dataframe thead th {\n",
       "        text-align: right;\n",
       "    }\n",
       "</style>\n",
       "<table border=\"1\" class=\"dataframe\">\n",
       "  <thead>\n",
       "    <tr style=\"text-align: right;\">\n",
       "      <th></th>\n",
       "      <th>user_id</th>\n",
       "      <th>anime_id</th>\n",
       "      <th>score</th>\n",
       "    </tr>\n",
       "  </thead>\n",
       "  <tbody>\n",
       "    <tr>\n",
       "      <th>0</th>\n",
       "      <td>charlieleb</td>\n",
       "      <td>52991</td>\n",
       "      <td>8.0</td>\n",
       "    </tr>\n",
       "    <tr>\n",
       "      <th>1</th>\n",
       "      <td>Celinho</td>\n",
       "      <td>52991</td>\n",
       "      <td>9.0</td>\n",
       "    </tr>\n",
       "    <tr>\n",
       "      <th>2</th>\n",
       "      <td>bolcio</td>\n",
       "      <td>52991</td>\n",
       "      <td>10.0</td>\n",
       "    </tr>\n",
       "    <tr>\n",
       "      <th>3</th>\n",
       "      <td>Jhin123</td>\n",
       "      <td>52991</td>\n",
       "      <td>10.0</td>\n",
       "    </tr>\n",
       "    <tr>\n",
       "      <th>4</th>\n",
       "      <td>Frfri</td>\n",
       "      <td>52991</td>\n",
       "      <td>10.0</td>\n",
       "    </tr>\n",
       "    <tr>\n",
       "      <th>...</th>\n",
       "      <td>...</td>\n",
       "      <td>...</td>\n",
       "      <td>...</td>\n",
       "    </tr>\n",
       "    <tr>\n",
       "      <th>2211591</th>\n",
       "      <td>Coolest1234D</td>\n",
       "      <td>51154</td>\n",
       "      <td>1.0</td>\n",
       "    </tr>\n",
       "    <tr>\n",
       "      <th>2211592</th>\n",
       "      <td>BBloodhound</td>\n",
       "      <td>51154</td>\n",
       "      <td>8.0</td>\n",
       "    </tr>\n",
       "    <tr>\n",
       "      <th>2211593</th>\n",
       "      <td>synraul</td>\n",
       "      <td>51154</td>\n",
       "      <td>6.0</td>\n",
       "    </tr>\n",
       "    <tr>\n",
       "      <th>2211594</th>\n",
       "      <td>ak47123</td>\n",
       "      <td>51154</td>\n",
       "      <td>8.0</td>\n",
       "    </tr>\n",
       "    <tr>\n",
       "      <th>2211595</th>\n",
       "      <td>Codonaine</td>\n",
       "      <td>51154</td>\n",
       "      <td>5.0</td>\n",
       "    </tr>\n",
       "  </tbody>\n",
       "</table>\n",
       "<p>2211596 rows × 3 columns</p>\n",
       "</div>"
      ],
      "text/plain": [
       "              user_id  anime_id  score\n",
       "0          charlieleb     52991    8.0\n",
       "1             Celinho     52991    9.0\n",
       "2              bolcio     52991   10.0\n",
       "3             Jhin123     52991   10.0\n",
       "4               Frfri     52991   10.0\n",
       "...               ...       ...    ...\n",
       "2211591  Coolest1234D     51154    1.0\n",
       "2211592   BBloodhound     51154    8.0\n",
       "2211593       synraul     51154    6.0\n",
       "2211594       ak47123     51154    8.0\n",
       "2211595     Codonaine     51154    5.0\n",
       "\n",
       "[2211596 rows x 3 columns]"
      ]
     },
     "execution_count": 73,
     "metadata": {},
     "output_type": "execute_result"
    }
   ],
   "source": [
    "final_df.drop(columns=['status','episodes_seen'])       "
   ]
  },
  {
   "cell_type": "code",
   "execution_count": 74,
   "id": "257bca68",
   "metadata": {},
   "outputs": [],
   "source": [
    "final_df.to_csv('final_user_anime.csv', index=False)"
   ]
  },
  {
   "cell_type": "code",
   "execution_count": null,
   "id": "6b76e878",
   "metadata": {},
   "outputs": [],
   "source": []
  }
 ],
 "metadata": {
  "kernelspec": {
   "display_name": "anime",
   "language": "python",
   "name": "python3"
  },
  "language_info": {
   "codemirror_mode": {
    "name": "ipython",
    "version": 3
   },
   "file_extension": ".py",
   "mimetype": "text/x-python",
   "name": "python",
   "nbconvert_exporter": "python",
   "pygments_lexer": "ipython3",
   "version": "3.11.4"
  }
 },
 "nbformat": 4,
 "nbformat_minor": 5
}
